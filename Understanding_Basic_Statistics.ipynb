{
  "cells": [
    {
      "cell_type": "markdown",
      "metadata": {
        "id": "XwleGovOcVt6"
      },
      "source": [
        "Mean (Average)"
      ]
    },
    {
      "cell_type": "code",
      "execution_count": null,
      "metadata": {
        "id": "-epT5vidS78A",
        "outputId": "91caf6fc-46e0-4243-8b87-d9331a6ef7ff",
        "colab": {
          "base_uri": "https://localhost:8080/"
        }
      },
      "outputs": [
        {
          "output_type": "stream",
          "name": "stdout",
          "text": [
            "Mean: 10.0\n"
          ]
        }
      ],
      "source": [
        "from google.colab import files\n",
        "import numpy as np\n",
        "\n",
        "data = [5, 10, 15]\n",
        "mean = np.mean(data)\n",
        "print(\"Mean:\", mean)"
      ]
    },
    {
      "cell_type": "code",
      "execution_count": null,
      "metadata": {
        "colab": {
          "base_uri": "https://localhost:8080/"
        },
        "id": "aD9YGhEiTJzF",
        "outputId": "78591642-7a1c-42ce-f419-a51edb3b821f"
      },
      "outputs": [
        {
          "name": "stdout",
          "output_type": "stream",
          "text": [
            "[1] 10\n"
          ]
        }
      ],
      "source": [
        "data <- c(5, 10, 15)\n",
        "mean_value <- mean(data)\n",
        "print(mean_value)"
      ]
    },
    {
      "cell_type": "markdown",
      "metadata": {
        "id": "9ZtqG8pFcUz1"
      },
      "source": [
        "Median"
      ]
    },
    {
      "cell_type": "code",
      "execution_count": null,
      "metadata": {
        "colab": {
          "base_uri": "https://localhost:8080/"
        },
        "id": "iLDQ02-GTXyy",
        "outputId": "8b8dabf4-a265-4822-9b2f-2f347c7cd3d6"
      },
      "outputs": [
        {
          "name": "stdout",
          "output_type": "stream",
          "text": [
            "Median: 10.0\n"
          ]
        }
      ],
      "source": [
        "median = np.median(data)\n",
        "print(\"Median:\", median)"
      ]
    },
    {
      "cell_type": "code",
      "execution_count": null,
      "metadata": {
        "colab": {
          "base_uri": "https://localhost:8080/"
        },
        "id": "k9ZSntYcTeBC",
        "outputId": "a6fd5b04-a996-4879-8a0e-ad916db05eeb"
      },
      "outputs": [
        {
          "name": "stdout",
          "output_type": "stream",
          "text": [
            "[1] 10\n"
          ]
        }
      ],
      "source": [
        "median_value <- median(data)\n",
        "print(median_value)"
      ]
    },
    {
      "cell_type": "markdown",
      "metadata": {
        "id": "tkgF7JlKcUAF"
      },
      "source": [
        "Mode"
      ]
    },
    {
      "cell_type": "code",
      "execution_count": null,
      "metadata": {
        "colab": {
          "base_uri": "https://localhost:8080/"
        },
        "id": "kwF4VZW1TifE",
        "outputId": "6dad6199-8824-43ca-944a-ce763c22f4b7"
      },
      "outputs": [
        {
          "name": "stdout",
          "output_type": "stream",
          "text": [
            "Mode: 2\n"
          ]
        }
      ],
      "source": [
        "from scipy import stats\n",
        "\n",
        "data = [1, 2, 2, 3, 4]\n",
        "\n",
        "mode = stats.mode(data)\n",
        "if isinstance(mode.mode, (list, tuple, np.ndarray)):\n",
        "    print(\"Mode:\", mode_result.mode[0])  # For multidimensional or legacy cases\n",
        "else:\n",
        "    print(\"Mode:\", mode.mode)"
      ]
    },
    {
      "cell_type": "code",
      "execution_count": null,
      "metadata": {
        "colab": {
          "base_uri": "https://localhost:8080/"
        },
        "id": "T8TvnoGecOO6",
        "outputId": "a94d742d-1c84-4d78-96c5-4199411caa4e"
      },
      "outputs": [
        {
          "name": "stdout",
          "output_type": "stream",
          "text": [
            "[1] 2\n"
          ]
        }
      ],
      "source": [
        "mode_function <- function(x) {\n",
        "  uniq_values <- unique(x)\n",
        "  freq <- tabulate(match(x, uniq_values))\n",
        "  uniq_values[which.max(freq)]\n",
        "}\n",
        "\n",
        "data <- c(1, 2, 2, 3, 4)\n",
        "mode_value <- mode_function(data)\n",
        "print(mode_value)"
      ]
    },
    {
      "cell_type": "markdown",
      "metadata": {
        "id": "20Xl9bhUcW-g"
      },
      "source": [
        "Variance"
      ]
    },
    {
      "cell_type": "code",
      "execution_count": null,
      "metadata": {
        "colab": {
          "base_uri": "https://localhost:8080/"
        },
        "id": "Zxy-JlIqcXv1",
        "outputId": "45d71ba3-d6da-4dda-b8a6-8d52af0fb092"
      },
      "outputs": [
        {
          "name": "stdout",
          "output_type": "stream",
          "text": [
            "Variance: 16.666666666666668\n"
          ]
        }
      ],
      "source": [
        "from google.colab import files\n",
        "import numpy as np\n",
        "\n",
        "data = [5, 10, 15]\n",
        "variance = np.var(data)\n",
        "print(\"Variance:\", variance)"
      ]
    },
    {
      "cell_type": "code",
      "execution_count": null,
      "metadata": {
        "colab": {
          "base_uri": "https://localhost:8080/"
        },
        "id": "dof3iN9EchEF",
        "outputId": "06c9e4c4-0311-43b5-c758-2935c8c9f71f"
      },
      "outputs": [
        {
          "name": "stdout",
          "output_type": "stream",
          "text": [
            "[1] 25\n"
          ]
        }
      ],
      "source": [
        "data <- c(5, 10, 15)\n",
        "variance_value <- var(data)\n",
        "print(variance_value)"
      ]
    },
    {
      "cell_type": "markdown",
      "metadata": {
        "id": "1oBUcboSclk4"
      },
      "source": [
        "Standard Deviation (SD)"
      ]
    },
    {
      "cell_type": "code",
      "execution_count": null,
      "metadata": {
        "colab": {
          "base_uri": "https://localhost:8080/"
        },
        "id": "Swt_WNKHcmM8",
        "outputId": "81ab55fe-ccdd-4ae9-abdb-694ad82ac383"
      },
      "outputs": [
        {
          "name": "stdout",
          "output_type": "stream",
          "text": [
            "Standard Deviation: 4.08248290463863\n"
          ]
        }
      ],
      "source": [
        "std_dev = np.std(data)\n",
        "print(\"Standard Deviation:\", std_dev)"
      ]
    },
    {
      "cell_type": "code",
      "execution_count": null,
      "metadata": {
        "colab": {
          "base_uri": "https://localhost:8080/"
        },
        "id": "F8lsSilncmyp",
        "outputId": "6836f94d-f01d-4e1e-97d0-758cc8d0ef5a"
      },
      "outputs": [
        {
          "name": "stdout",
          "output_type": "stream",
          "text": [
            "[1] 5\n"
          ]
        }
      ],
      "source": [
        "std_dev_value <- sd(data)\n",
        "print(std_dev_value)"
      ]
    },
    {
      "cell_type": "markdown",
      "metadata": {
        "id": "uQ1FMygDcz2q"
      },
      "source": [
        "Percentiles and Quartiles"
      ]
    },
    {
      "cell_type": "code",
      "execution_count": null,
      "metadata": {
        "colab": {
          "base_uri": "https://localhost:8080/"
        },
        "id": "4mvjwgwXc5aF",
        "outputId": "6b289f0d-e2f0-4f4e-d807-405ea6a5cee7"
      },
      "outputs": [
        {
          "name": "stdout",
          "output_type": "stream",
          "text": [
            "25th Percentile: 7.5\n",
            "50th Percentile (Median): 10.0\n",
            "75th Percentile: 12.5\n"
          ]
        }
      ],
      "source": [
        "percentile_25 = np.percentile(data, 25)\n",
        "percentile_50 = np.percentile(data, 50)  # Median\n",
        "percentile_75 = np.percentile(data, 75)\n",
        "print(\"25th Percentile:\", percentile_25)\n",
        "print(\"50th Percentile (Median):\", percentile_50)\n",
        "print(\"75th Percentile:\", percentile_75)"
      ]
    },
    {
      "cell_type": "code",
      "execution_count": null,
      "metadata": {
        "colab": {
          "base_uri": "https://localhost:8080/"
        },
        "id": "A8QZiqmwdWd6",
        "outputId": "06bb3522-60a1-4eaa-8b01-b4a81e039068"
      },
      "outputs": [
        {
          "name": "stdout",
          "output_type": "stream",
          "text": [
            " 25%  50%  75% \n",
            " 7.5 10.0 12.5 \n"
          ]
        }
      ],
      "source": [
        "quantiles <- quantile(data, probs = c(0.25, 0.5, 0.75))\n",
        "print(quantiles)"
      ]
    },
    {
      "cell_type": "markdown",
      "metadata": {
        "id": "e2RljF8VdewR"
      },
      "source": [
        "Skewness and Kurtosis"
      ]
    },
    {
      "cell_type": "code",
      "execution_count": null,
      "metadata": {
        "colab": {
          "base_uri": "https://localhost:8080/"
        },
        "id": "OtOjrHz3djba",
        "outputId": "bf949de9-6d92-440f-ffdc-831ec7804d5b"
      },
      "outputs": [
        {
          "output_type": "stream",
          "name": "stdout",
          "text": [
            "Skewness: 0.0\n"
          ]
        }
      ],
      "source": [
        "from scipy import stats\n",
        "\n",
        "skewness = stats.skew(data)\n",
        "print(\"Skewness:\", skewness)\n"
      ]
    },
    {
      "cell_type": "code",
      "execution_count": null,
      "metadata": {
        "id": "-m1xHZaFwaNS",
        "outputId": "4ba6806f-e5ec-4377-adf9-0c0d357c82d0",
        "colab": {
          "base_uri": "https://localhost:8080/"
        }
      },
      "outputs": [
        {
          "output_type": "stream",
          "name": "stdout",
          "text": [
            "Kurtosis: -1.5000000000000002\n"
          ]
        }
      ],
      "source": [
        "kurtosis = stats.kurtosis(data)\n",
        "print(\"Kurtosis:\", kurtosis)\n"
      ]
    },
    {
      "cell_type": "code",
      "execution_count": null,
      "metadata": {
        "colab": {
          "background_save": true,
          "base_uri": "https://localhost:8080/",
          "height": 219
        },
        "id": "jRnDrITmdo6X",
        "outputId": "f6e8991b-4aec-4c62-f273-d8ed183da462"
      },
      "outputs": [
        {
          "name": "stderr",
          "output_type": "stream",
          "text": [
            "Installing package into ‘/usr/local/lib/R/site-library’\n",
            "(as ‘lib’ is unspecified)\n",
            "\n"
          ]
        },
        {
          "name": "stdout",
          "output_type": "stream",
          "text": [
            "[1] \"Skewness: 0\"\n"
          ]
        }
      ],
      "source": [
        "install.packages(\"e1071\")\n",
        "\n",
        "library(e1071)\n",
        "skewness <- skewness(data)\n",
        "print(paste(\"Skewness:\", skewness))\n"
      ]
    },
    {
      "cell_type": "code",
      "execution_count": null,
      "metadata": {
        "colab": {
          "background_save": true,
          "base_uri": "https://localhost:8080/",
          "height": 164
        },
        "id": "ICAkLQu-whwh",
        "outputId": "b9dd02eb-76c3-47ea-b0b7-92763afbaef6"
      },
      "outputs": [
        {
          "name": "stderr",
          "output_type": "stream",
          "text": [
            "Installing package into ‘/usr/local/lib/R/site-library’\n",
            "(as ‘lib’ is unspecified)\n",
            "\n"
          ]
        },
        {
          "name": "stdout",
          "output_type": "stream",
          "text": [
            "[1] \"Kurtosis: -2.33333333333333\"\n"
          ]
        }
      ],
      "source": [
        "install.packages(\"e1071\")\n",
        "\n",
        "library(e1071)\n",
        "kurtosis <- kurtosis(data)\n",
        "print(paste(\"Kurtosis:\", kurtosis))\n"
      ]
    },
    {
      "cell_type": "markdown",
      "metadata": {
        "id": "IuqlzzFHduPm"
      },
      "source": [
        "Z-Score and Normalization"
      ]
    },
    {
      "cell_type": "code",
      "execution_count": null,
      "metadata": {
        "colab": {
          "base_uri": "https://localhost:8080/"
        },
        "id": "x6ZPsioFds-b",
        "outputId": "30067a7e-edad-4c04-c1ff-5ce412098337"
      },
      "outputs": [
        {
          "name": "stdout",
          "output_type": "stream",
          "text": [
            "Z-Scores: [-1.22474487  0.          1.22474487]\n"
          ]
        }
      ],
      "source": [
        "z_scores = (data - np.mean(data)) / np.std(data)\n",
        "print(\"Z-Scores:\", z_scores)"
      ]
    },
    {
      "cell_type": "code",
      "execution_count": null,
      "metadata": {
        "colab": {
          "base_uri": "https://localhost:8080/"
        },
        "id": "d6DQVKkXd26k",
        "outputId": "81ed5a7e-b49a-4ebd-b6ec-6414fc7bc11a"
      },
      "outputs": [
        {
          "name": "stdout",
          "output_type": "stream",
          "text": [
            "     [,1]\n",
            "[1,]   -1\n",
            "[2,]    0\n",
            "[3,]    1\n",
            "attr(,\"scaled:center\")\n",
            "[1] 10\n",
            "attr(,\"scaled:scale\")\n",
            "[1] 5\n"
          ]
        }
      ],
      "source": [
        "z_scores <- scale(data)\n",
        "print(z_scores)"
      ]
    },
    {
      "cell_type": "code",
      "execution_count": null,
      "metadata": {
        "colab": {
          "base_uri": "https://localhost:8080/"
        },
        "id": "isuX795leBnJ",
        "outputId": "645acc93-fc77-4a83-d12d-636bafda6c57"
      },
      "outputs": [
        {
          "name": "stdout",
          "output_type": "stream",
          "text": [
            "Normalized Data: [0.  0.5 1. ]\n"
          ]
        }
      ],
      "source": [
        "normalized_data = (data - np.min(data)) / (np.max(data) - np.min(data))\n",
        "print(\"Normalized Data:\", normalized_data)"
      ]
    },
    {
      "cell_type": "code",
      "execution_count": null,
      "metadata": {
        "colab": {
          "base_uri": "https://localhost:8080/"
        },
        "id": "U08Vy2eveC6B",
        "outputId": "6df42119-0b3b-4cef-acb4-0af694b6e69c"
      },
      "outputs": [
        {
          "name": "stdout",
          "output_type": "stream",
          "text": [
            "[1] 0.0 0.5 1.0\n"
          ]
        }
      ],
      "source": [
        "normalized_data <- (data - min(data)) / (max(data) - min(data))\n",
        "print(normalized_data)"
      ]
    }
  ],
  "metadata": {
    "colab": {
      "provenance": []
    },
    "kernelspec": {
      "display_name": "Python 3",
      "name": "python3"
    },
    "language_info": {
      "name": "python"
    }
  },
  "nbformat": 4,
  "nbformat_minor": 0
}